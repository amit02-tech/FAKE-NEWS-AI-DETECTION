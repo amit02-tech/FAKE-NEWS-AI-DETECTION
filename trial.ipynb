{
  "nbformat": 4,
  "nbformat_minor": 0,
  "metadata": {
    "colab": {
      "provenance": [],
      "include_colab_link": true
    },
    "kernelspec": {
      "name": "python3",
      "display_name": "Python 3"
    },
    "language_info": {
      "name": "python"
    }
  },
  "cells": [
    {
      "cell_type": "markdown",
      "metadata": {
        "id": "view-in-github",
        "colab_type": "text"
      },
      "source": [
        "<a href=\"https://colab.research.google.com/github/amit02-tech/FAKE-NEWS-AI-DETECTION/blob/main/trial.ipynb\" target=\"_parent\"><img src=\"https://colab.research.google.com/assets/colab-badge.svg\" alt=\"Open In Colab\"/></a>"
      ]
    },
    {
      "cell_type": "code",
      "execution_count": 8,
      "metadata": {
        "id": "EBHagMiRTSaV"
      },
      "outputs": [],
      "source": [
        "from fastapi import FastAPI\n",
        "import joblib\n",
        "import pandas as pd\n",
        "\n",
        "app = FastAPI()\n",
        "model = joblib.load(\"model.joblib\")\n",
        "vectorizer = joblib.load(\"tfidf.joblib\")\n",
        "\n",
        "@app.post(\"/predict\")\n",
        "def predict(news: dict):\n",
        "    text = news[\"title\"] + \" \" + news[\"text\"]\n",
        "    X = vectorizer.transform([text])\n",
        "    pred = model.predict(X)[0]\n",
        "    return {\"label\": str(pred)}\n",
        "\n"
      ]
    },
    {
      "cell_type": "code",
      "source": [
        "import pandas as pd\n",
        "from sklearn.feature_extraction.text import TfidfVectorizer\n",
        "from sklearn.linear_model import LogisticRegression\n",
        "from sklearn.model_selection import train_test_split\n",
        "from sklearn.metrics import classification_report\n",
        "import joblib\n",
        "\n",
        "# Load data\n",
        "df = pd.read_csv(\"/content/Fake_News_Detector.csv\", on_bad_lines='skip', engine='python')\n",
        "df.dropna(inplace=True)\n",
        "X = df['title'] + \" \" + df['text']\n",
        "y = df['label']\n",
        "\n",
        "# Train/test split\n",
        "X_train, X_test, y_train, y_test = train_test_split(X, y, test_size=0.2, random_state=42)\n",
        "\n",
        "# TF-IDF vectorizer\n",
        "vectorizer = TfidfVectorizer(stop_words='english', max_features=5000)\n",
        "X_train_vec = vectorizer.fit_transform(X_train)\n",
        "X_test_vec = vectorizer.transform(X_test)\n",
        "\n",
        "# Logistic Regression model\n",
        "model = LogisticRegression()\n",
        "model.fit(X_train_vec, y_train)\n",
        "\n",
        "# Evaluate\n",
        "y_pred = model.predict(X_test_vec)\n",
        "print(classification_report(y_test, y_pred))\n",
        "\n",
        "# Save artifacts\n",
        "joblib.dump(model, \"model.joblib\")\n",
        "joblib.dump(vectorizer, \"tfidf.joblib\")\n",
        "print(\"Model and vectorizer saved!\")"
      ],
      "metadata": {
        "colab": {
          "base_uri": "https://localhost:8080/"
        },
        "id": "PfciawWcTp3j",
        "outputId": "ac756294-271b-4787-869e-8bdf4b23ce97"
      },
      "execution_count": 9,
      "outputs": [
        {
          "output_type": "stream",
          "name": "stdout",
          "text": [
            "              precision    recall  f1-score   support\n",
            "\n",
            "           0       0.99      0.98      0.98      2693\n",
            "           1       0.97      0.98      0.98      2323\n",
            "\n",
            "    accuracy                           0.98      5016\n",
            "   macro avg       0.98      0.98      0.98      5016\n",
            "weighted avg       0.98      0.98      0.98      5016\n",
            "\n",
            "Model and vectorizer saved!\n"
          ]
        }
      ]
    },
    {
      "cell_type": "code",
      "source": [
        "from fastapi import FastAPI\n",
        "import joblib\n",
        "\n",
        "app = FastAPI()\n",
        "\n",
        "# Load trained artifacts\n",
        "model = joblib.load(\"model.joblib\")\n",
        "vectorizer = joblib.load(\"tfidf.joblib\")\n",
        "\n",
        "@app.post(\"/predict\")\n",
        "def predict(news: dict):\n",
        "    text = news.get(\"title\", \"\") + \" \" + news.get(\"text\", \"\")\n",
        "    X_vec = vectorizer.transform([text])\n",
        "    pred = model.predict(X_vec)[0]\n",
        "    return {\"label\": pred}\n"
      ],
      "metadata": {
        "id": "zB29tImVTuk3"
      },
      "execution_count": 10,
      "outputs": []
    },
    {
      "cell_type": "code",
      "source": [],
      "metadata": {
        "id": "5HXABY8GTxg7"
      },
      "execution_count": null,
      "outputs": []
    }
  ]
}